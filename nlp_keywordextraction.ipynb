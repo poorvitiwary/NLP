{
  "nbformat": 4,
  "nbformat_minor": 0,
  "metadata": {
    "colab": {
      "name": "nlp_keywordextraction.ipynb",
      "provenance": [],
      "include_colab_link": true
    },
    "kernelspec": {
      "name": "python3",
      "display_name": "Python 3"
    },
    "language_info": {
      "name": "python"
    }
  },
  "cells": [
    {
      "cell_type": "markdown",
      "metadata": {
        "id": "view-in-github",
        "colab_type": "text"
      },
      "source": [
        "<a href=\"https://colab.research.google.com/github/poorvitiwary/NLP/blob/main/nlp_keywordextraction.ipynb\" target=\"_parent\"><img src=\"https://colab.research.google.com/assets/colab-badge.svg\" alt=\"Open In Colab\"/></a>"
      ]
    },
    {
      "cell_type": "markdown",
      "metadata": {
        "id": "G2P5o7doxbAo"
      },
      "source": [
        "Approach 1 (Dictionary Method) and NLTK"
      ]
    },
    {
      "cell_type": "code",
      "metadata": {
        "colab": {
          "base_uri": "https://localhost:8080/"
        },
        "id": "rtJPofUpxTwC",
        "outputId": "c83c85a1-1fd4-485f-e186-0952b28d656f"
      },
      "source": [
        "#Downloading all the necessary packages\n",
        "import nltk\n",
        "nltk.download('punkt')\n",
        "from nltk import word_tokenize\n",
        "import re \n",
        "nltk.download('stopwords')\n",
        "from nltk.corpus import stopwords"
      ],
      "execution_count": 20,
      "outputs": [
        {
          "output_type": "stream",
          "text": [
            "[nltk_data] Downloading package punkt to /root/nltk_data...\n",
            "[nltk_data]   Package punkt is already up-to-date!\n",
            "[nltk_data] Downloading package stopwords to /root/nltk_data...\n",
            "[nltk_data]   Package stopwords is already up-to-date!\n"
          ],
          "name": "stdout"
        }
      ]
    },
    {
      "cell_type": "code",
      "metadata": {
        "id": "vkn-8AwDxg6x"
      },
      "source": [
        "text = \"show me a car with blue colour in SUV variant\" #input text\n",
        "#show me a yellow car with petrol variant"
      ],
      "execution_count": 29,
      "outputs": []
    },
    {
      "cell_type": "code",
      "metadata": {
        "id": "RV71FSzyxmKs"
      },
      "source": [
        " #preprocessing input text so that it follows a uniform pattern\n",
        "def pre_process(text):\n",
        "    \n",
        "    # lowercase\n",
        "    text=text.lower()\n",
        "    \n",
        "    #remove tags\n",
        "    text=re.sub(\"</?.*?>\",\" <> \",text)\n",
        "    \n",
        "    # remove special characters and digits\n",
        "    text=re.sub(\"(\\\\d|\\\\W)+\",\" \",text)\n",
        "    \n",
        "    return text\n"
      ],
      "execution_count": 30,
      "outputs": []
    },
    {
      "cell_type": "code",
      "metadata": {
        "id": "EyivIG0xxmO4"
      },
      "source": [
        "txt = pre_process(text)"
      ],
      "execution_count": 31,
      "outputs": []
    },
    {
      "cell_type": "code",
      "metadata": {
        "id": "0f3jMYxQx4op",
        "colab": {
          "base_uri": "https://localhost:8080/"
        },
        "outputId": "5f592e5b-2a89-488c-da58-d5b256e7c5c3"
      },
      "source": [
        "tokens = word_tokenize(txt) #tokenizing the Input text after preprocessing to extract keywords\n",
        "print(tokens)"
      ],
      "execution_count": 32,
      "outputs": [
        {
          "output_type": "stream",
          "text": [
            "['show', 'me', 'a', 'car', 'with', 'blue', 'colour', 'in', 'suv', 'variant']\n"
          ],
          "name": "stdout"
        }
      ]
    },
    {
      "cell_type": "code",
      "metadata": {
        "id": "f43KINgTyGfH"
      },
      "source": [
        "new_stopwords = [\"can\", \"show\", \"a\", \"on\", \"daily\"] #creating a case specific stopword list and adding it to the stopwords provided by toolkit. "
      ],
      "execution_count": 33,
      "outputs": []
    },
    {
      "cell_type": "code",
      "metadata": {
        "id": "3PP1gHEFyLZ6"
      },
      "source": [
        "stpwrd = nltk.corpus.stopwords.words('english')\n",
        "stpwrd.extend(new_stopwords)"
      ],
      "execution_count": 34,
      "outputs": []
    },
    {
      "cell_type": "code",
      "metadata": {
        "colab": {
          "base_uri": "https://localhost:8080/"
        },
        "id": "CpgtwJ21yLdr",
        "outputId": "b35603b3-e94e-42d9-fde9-cb0a55209138"
      },
      "source": [
        " removing_custom_words = [words for words in tokens if not words in stpwrd]\n",
        " print(removing_custom_words)"
      ],
      "execution_count": 35,
      "outputs": [
        {
          "output_type": "stream",
          "text": [
            "['car', 'blue', 'colour', 'suv', 'variant']\n"
          ],
          "name": "stdout"
        }
      ]
    },
    {
      "cell_type": "code",
      "metadata": {
        "id": "7Js276XFyLhZ"
      },
      "source": [
        "#Created dictionary to sepcifically extract the expected keywords, In case of larger dataset custom dictionary could be created using TF-IDF\n",
        "vehicle = [\"car\",\"bike\",\"truck\",\"cycle\"]\n",
        "colour = [\"red\",\"green\",\"blue\",\"black\",\"white\",\"silver\",\"yellow\",\"golden\" ]\n",
        "wheels = [\"alloy\",\"steel\",\"chrome\",\"cast\",\"forged\"]\n",
        "variant =[\"suv\",\"petrol\",\"diesel\",\"sedan\"]"
      ],
      "execution_count": 36,
      "outputs": []
    },
    {
      "cell_type": "code",
      "metadata": {
        "colab": {
          "base_uri": "https://localhost:8080/"
        },
        "id": "j9Lqx8MHyLkj",
        "outputId": "4277c4c8-1ad1-4c0e-fa56-acc12e672ebc"
      },
      "source": [
        "#Ran loops to get the specific details from the input text after preprocessing.\n",
        "\n",
        "flag = False\n",
        "for t in  range(len(removing_custom_words)):\n",
        "  for k in range(len(vehicle)):\n",
        "    if removing_custom_words[t] == vehicle[k]:\n",
        "      flag = True\n",
        "      print(\"Vehicle:\",vehicle[k])\n",
        "if flag != True:\n",
        "      print(\"Vehicle: NA\")\n",
        "   \n",
        "flag = False\n",
        "for t in  range(len(removing_custom_words)):\n",
        "  for k in range(len(colour)):\n",
        "    if removing_custom_words[t] == colour[k]:\n",
        "      flag = True\n",
        "      print(\"Colour:\",colour[k])\n",
        "if flag != True:\n",
        "      print(\"Colour: NA\")\n",
        "    \n",
        "flag = False\n",
        "for t in  range(len(removing_custom_words)):\n",
        "  for k in range(len(wheels)):\n",
        "    if removing_custom_words[t] == wheels[k]:\n",
        "      flag = True\n",
        "      print(\"Wheels:\",wheels[k])\n",
        "if flag != True:\n",
        "      print(\"Wheels: NA\")\n",
        "   \n",
        "flag = False    \n",
        "for t in  range(len(removing_custom_words)):\n",
        "  for k in range(len(variant)):\n",
        "    if removing_custom_words[t] == variant[k]:\n",
        "      flag = True\n",
        "      print(\"Variant:\",variant[k])\n",
        "if (flag != True):\n",
        "      print(\"Variant: NA\")\n",
        "   \n",
        "  \n",
        "#Expected Output"
      ],
      "execution_count": 37,
      "outputs": [
        {
          "output_type": "stream",
          "text": [
            "Vehicle: car\n",
            "Colour: blue\n",
            "Wheels: NA\n",
            "Variant: suv\n"
          ],
          "name": "stdout"
        }
      ]
    },
    {
      "cell_type": "markdown",
      "metadata": {
        "id": "hFfQcLcYyuhQ"
      },
      "source": [
        "Approach 2 POS tagging and Spacy"
      ]
    },
    {
      "cell_type": "code",
      "metadata": {
        "colab": {
          "base_uri": "https://localhost:8080/"
        },
        "id": "Atg699Aiy0dK",
        "outputId": "a60afa3e-3de0-4a1d-a300-88336fd985e5"
      },
      "source": [
        "#imported part of speech tagging from spacy and extracted words based on their grammar \n",
        "\n",
        "import spacy\n",
        "nlp = spacy.load('en_core_web_sm',disable=['ner','textcat'])\n",
        "text = \"Can you show me a car of red colour with alloy wheels\"\n",
        "doc = nlp(text)\n",
        "\n",
        "for token in doc:\n",
        "  print(token.text, \"->\", token.pos_)"
      ],
      "execution_count": 23,
      "outputs": [
        {
          "output_type": "stream",
          "text": [
            "Can -> VERB\n",
            "you -> PRON\n",
            "show -> VERB\n",
            "me -> PRON\n",
            "a -> DET\n",
            "car -> NOUN\n",
            "of -> ADP\n",
            "red -> ADJ\n",
            "colour -> NOUN\n",
            "with -> ADP\n",
            "alloy -> NOUN\n",
            "wheels -> NOUN\n"
          ],
          "name": "stdout"
        }
      ]
    },
    {
      "cell_type": "code",
      "metadata": {
        "colab": {
          "base_uri": "https://localhost:8080/"
        },
        "id": "UrssldPEy0gu",
        "outputId": "d0569363-e08c-4445-c02f-7d63c72030ec"
      },
      "source": [
        "lis =[]  #created a list of all useful keywords from the input and added them to a list\n",
        "for token in doc:\n",
        "  \n",
        "  if token.pos_ ==\"NOUN\":\n",
        "    lis.append(token.text)\n",
        "    print(token.text)\n",
        "  if token.pos_ ==\"ADJ\":\n",
        "    print(token.text)\n",
        "    lis.append(token.text)\n",
        "  if token.pos_ ==\"PROPN\":\n",
        "    print(token.text)\n",
        "    lis.append(token.text)\n",
        "print(lis)"
      ],
      "execution_count": 24,
      "outputs": [
        {
          "output_type": "stream",
          "text": [
            "car\n",
            "red\n",
            "colour\n",
            "alloy\n",
            "wheels\n",
            "['car', 'red', 'colour', 'alloy', 'wheels']\n"
          ],
          "name": "stdout"
        }
      ]
    },
    {
      "cell_type": "code",
      "metadata": {
        "id": "bhsFMYpw2tmk"
      },
      "source": [
        "vehicle = [\"car\",\"bike\",\"truck\",\"cycle\"] #made a custome dictionary to extract specific key terms from the input.\n",
        "colour = [\"red\",\"green\",\"blue\",\"black\",\"white\",\"silver\",\"yellow\",\"golden\" ]\n",
        "wheels = [\"alloy\",\"steel\",\"chrome\",\"cast\",\"forged\"]\n",
        "variant =[\"suv\",\"petrol\",\"diesel\",\"sedan\"]"
      ],
      "execution_count": 27,
      "outputs": []
    },
    {
      "cell_type": "code",
      "metadata": {
        "id": "exMFnHQiy0oN",
        "colab": {
          "base_uri": "https://localhost:8080/"
        },
        "outputId": "048a13c0-178c-4061-ae75-495f469f5c16"
      },
      "source": [
        "flag = False  #Ran a loop to get the specific output\n",
        "for t in  range(len(lis)):\n",
        "  for k in range(len(vehicle)):\n",
        "    if lis[t] == vehicle[k]:\n",
        "      flag = True\n",
        "      print(\"Vehicle:\",vehicle[k])\n",
        "if flag != True:\n",
        "      print(\"Vehicle: NA\")\n",
        "   \n",
        "flag = False\n",
        "for t in  range(len(lis)):\n",
        "  for k in range(len(colour)):\n",
        "    if lis[t] == colour[k]:\n",
        "      flag = True\n",
        "      print(\"Colour:\",colour[k])\n",
        "if flag != True:\n",
        "      print(\"Colour: NA\")\n",
        "    \n",
        "flag = False\n",
        "for t in  range(len(lis)):\n",
        "  for k in range(len(wheels)):\n",
        "    if lis[t] == wheels[k]:\n",
        "      flag = True\n",
        "      print(\"Wheels:\",wheels[k])\n",
        "if flag != True:\n",
        "      print(\"Wheels: NA\")\n",
        "   \n",
        "flag = False    \n",
        "for t in  range(len(lis)):\n",
        "  for k in range(len(variant)):\n",
        "    if lis[t] == variant[k]:\n",
        "      flag = True\n",
        "      print(\"Variant:\",variant[k])\n",
        "if (flag != True):\n",
        "      print(\"Variant: NA\")"
      ],
      "execution_count": 28,
      "outputs": [
        {
          "output_type": "stream",
          "text": [
            "Vehicle: car\n",
            "Colour: red\n",
            "Wheels: alloy\n",
            "Variant: NA\n"
          ],
          "name": "stdout"
        }
      ]
    }
  ]
}